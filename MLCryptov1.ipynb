{
 "cells": [
  {
   "cell_type": "code",
   "execution_count": 90,
   "metadata": {},
   "outputs": [],
   "source": [
    "import pandas as pd\n",
    "import sqlite3\n",
    "import numpy as np\n",
    "import matplotlib as plot\n",
    "import math\n",
    "import talib\n",
    "from sklearn import metrics, linear_model, preprocessing, svm, model_selection\n",
    "from sklearn.neural_network import MLPClassifier\n",
    "from sklearn.neighbors import KNeighborsClassifier\n",
    "from sklearn.svm import SVC\n",
    "from sklearn.gaussian_process import GaussianProcessClassifier\n",
    "from sklearn.gaussian_process.kernels import RBF\n",
    "from sklearn.tree import DecisionTreeClassifier\n",
    "from sklearn.ensemble import RandomForestClassifier, AdaBoostClassifier\n",
    "from sklearn.naive_bayes import GaussianNB"
   ]
  },
  {
   "cell_type": "code",
   "execution_count": 2,
   "metadata": {
    "collapsed": true
   },
   "outputs": [],
   "source": [
    "conn = sqlite3.connect('poloniex_0.1.db')\n",
    "c = conn.cursor()"
   ]
  },
  {
   "cell_type": "code",
   "execution_count": 86,
   "metadata": {},
   "outputs": [
    {
     "data": {
      "text/html": [
       "<div>\n",
       "<style>\n",
       "    .dataframe thead tr:only-child th {\n",
       "        text-align: right;\n",
       "    }\n",
       "\n",
       "    .dataframe thead th {\n",
       "        text-align: left;\n",
       "    }\n",
       "\n",
       "    .dataframe tbody tr th {\n",
       "        vertical-align: top;\n",
       "    }\n",
       "</style>\n",
       "<table border=\"1\" class=\"dataframe\">\n",
       "  <thead>\n",
       "    <tr style=\"text-align: right;\">\n",
       "      <th></th>\n",
       "      <th>open</th>\n",
       "      <th>high</th>\n",
       "      <th>low</th>\n",
       "      <th>close</th>\n",
       "      <th>vwp</th>\n",
       "      <th>volume</th>\n",
       "    </tr>\n",
       "    <tr>\n",
       "      <th>start</th>\n",
       "      <th></th>\n",
       "      <th></th>\n",
       "      <th></th>\n",
       "      <th></th>\n",
       "      <th></th>\n",
       "      <th></th>\n",
       "    </tr>\n",
       "  </thead>\n",
       "  <tbody>\n",
       "    <tr>\n",
       "      <th>2017-06-11 19:51:00</th>\n",
       "      <td>2923.996734</td>\n",
       "      <td>2932.600000</td>\n",
       "      <td>2923.996734</td>\n",
       "      <td>2925.828930</td>\n",
       "      <td>2929.711168</td>\n",
       "      <td>10.337254</td>\n",
       "    </tr>\n",
       "    <tr>\n",
       "      <th>2017-06-11 19:52:00</th>\n",
       "      <td>2930.373888</td>\n",
       "      <td>2932.600000</td>\n",
       "      <td>2925.828930</td>\n",
       "      <td>2925.996734</td>\n",
       "      <td>2928.910755</td>\n",
       "      <td>2.599433</td>\n",
       "    </tr>\n",
       "    <tr>\n",
       "      <th>2017-06-11 19:53:00</th>\n",
       "      <td>2932.600000</td>\n",
       "      <td>2932.944889</td>\n",
       "      <td>2925.996734</td>\n",
       "      <td>2930.000000</td>\n",
       "      <td>2930.652682</td>\n",
       "      <td>7.102010</td>\n",
       "    </tr>\n",
       "    <tr>\n",
       "      <th>2017-06-11 19:54:00</th>\n",
       "      <td>2932.944889</td>\n",
       "      <td>2935.107505</td>\n",
       "      <td>2923.494110</td>\n",
       "      <td>2923.996834</td>\n",
       "      <td>2930.371417</td>\n",
       "      <td>9.232048</td>\n",
       "    </tr>\n",
       "    <tr>\n",
       "      <th>2017-06-11 19:55:00</th>\n",
       "      <td>2923.996834</td>\n",
       "      <td>2935.000000</td>\n",
       "      <td>2923.996734</td>\n",
       "      <td>2923.996734</td>\n",
       "      <td>2928.012814</td>\n",
       "      <td>1.390456</td>\n",
       "    </tr>\n",
       "    <tr>\n",
       "      <th>2017-06-11 19:56:00</th>\n",
       "      <td>2932.835523</td>\n",
       "      <td>2932.835523</td>\n",
       "      <td>2923.996734</td>\n",
       "      <td>2923.996734</td>\n",
       "      <td>2924.764786</td>\n",
       "      <td>3.015836</td>\n",
       "    </tr>\n",
       "    <tr>\n",
       "      <th>2017-06-11 19:57:00</th>\n",
       "      <td>2923.996735</td>\n",
       "      <td>2930.528568</td>\n",
       "      <td>2923.996735</td>\n",
       "      <td>2930.528568</td>\n",
       "      <td>2924.291140</td>\n",
       "      <td>1.462843</td>\n",
       "    </tr>\n",
       "    <tr>\n",
       "      <th>2017-06-11 19:58:00</th>\n",
       "      <td>2923.996735</td>\n",
       "      <td>2932.835522</td>\n",
       "      <td>2923.996735</td>\n",
       "      <td>2930.548878</td>\n",
       "      <td>2931.113139</td>\n",
       "      <td>6.586996</td>\n",
       "    </tr>\n",
       "    <tr>\n",
       "      <th>2017-06-11 19:59:00</th>\n",
       "      <td>2930.548878</td>\n",
       "      <td>2932.835522</td>\n",
       "      <td>2924.416129</td>\n",
       "      <td>2928.274152</td>\n",
       "      <td>2927.959137</td>\n",
       "      <td>0.607046</td>\n",
       "    </tr>\n",
       "    <tr>\n",
       "      <th>2017-06-11 20:00:00</th>\n",
       "      <td>2924.416129</td>\n",
       "      <td>2932.000000</td>\n",
       "      <td>2924.269885</td>\n",
       "      <td>2924.269885</td>\n",
       "      <td>2926.529191</td>\n",
       "      <td>1.838149</td>\n",
       "    </tr>\n",
       "  </tbody>\n",
       "</table>\n",
       "</div>"
      ],
      "text/plain": [
       "                            open         high          low        close  \\\n",
       "start                                                                     \n",
       "2017-06-11 19:51:00  2923.996734  2932.600000  2923.996734  2925.828930   \n",
       "2017-06-11 19:52:00  2930.373888  2932.600000  2925.828930  2925.996734   \n",
       "2017-06-11 19:53:00  2932.600000  2932.944889  2925.996734  2930.000000   \n",
       "2017-06-11 19:54:00  2932.944889  2935.107505  2923.494110  2923.996834   \n",
       "2017-06-11 19:55:00  2923.996834  2935.000000  2923.996734  2923.996734   \n",
       "2017-06-11 19:56:00  2932.835523  2932.835523  2923.996734  2923.996734   \n",
       "2017-06-11 19:57:00  2923.996735  2930.528568  2923.996735  2930.528568   \n",
       "2017-06-11 19:58:00  2923.996735  2932.835522  2923.996735  2930.548878   \n",
       "2017-06-11 19:59:00  2930.548878  2932.835522  2924.416129  2928.274152   \n",
       "2017-06-11 20:00:00  2924.416129  2932.000000  2924.269885  2924.269885   \n",
       "\n",
       "                             vwp     volume  \n",
       "start                                        \n",
       "2017-06-11 19:51:00  2929.711168  10.337254  \n",
       "2017-06-11 19:52:00  2928.910755   2.599433  \n",
       "2017-06-11 19:53:00  2930.652682   7.102010  \n",
       "2017-06-11 19:54:00  2930.371417   9.232048  \n",
       "2017-06-11 19:55:00  2928.012814   1.390456  \n",
       "2017-06-11 19:56:00  2924.764786   3.015836  \n",
       "2017-06-11 19:57:00  2924.291140   1.462843  \n",
       "2017-06-11 19:58:00  2931.113139   6.586996  \n",
       "2017-06-11 19:59:00  2927.959137   0.607046  \n",
       "2017-06-11 20:00:00  2926.529191   1.838149  "
      ]
     },
     "execution_count": 86,
     "metadata": {},
     "output_type": "execute_result"
    }
   ],
   "source": [
    "df = pd.read_sql_query(\"SELECT * FROM candles_USDT_BTC\", conn)\n",
    "df = df.drop('id' ,1)\n",
    "df = df.drop('trades' ,1)\n",
    "df['start'] = pd.to_datetime(df['start'],unit='s')\n",
    "df.set_index('start' , inplace = True)\n",
    "#df.index.dtype\n",
    "df.head(10)\n",
    "#print (len(df.index))\n"
   ]
  },
  {
   "cell_type": "code",
   "execution_count": 43,
   "metadata": {
    "collapsed": true
   },
   "outputs": [],
   "source": [
    "def safediv(x,y):\n",
    "    if y == 0 :\n",
    "        return np.nan\n",
    "    else:\n",
    "        return x/y"
   ]
  },
  {
   "cell_type": "code",
   "execution_count": 48,
   "metadata": {},
   "outputs": [],
   "source": [
    "def ohlcsum(df):\n",
    "    #df = df.sort()\n",
    "    \n",
    "    return {\n",
    "       'open': df['open'][0],\n",
    "       'high': df['high'].max(),\n",
    "       'low': df['low'].min(),\n",
    "       'close': df['close'][-1],\n",
    "       'volume': df['volume'].sum(),\n",
    "        \n",
    "        'vwp': safediv((df['vwp']* df['volume']).sum(),df['volume'].sum()) \n",
    "        \n",
    "      }"
   ]
  },
  {
   "cell_type": "code",
   "execution_count": 49,
   "metadata": {},
   "outputs": [],
   "source": [
    "def convertcandles(df, mins):\n",
    "    s = str(mins) + 'T'\n",
    "    return( df.resample(s).agg(ohlcsum))\n",
    "    \n",
    "    \n",
    "#convertcandles(df, 120)\n",
    "    "
   ]
  },
  {
   "cell_type": "code",
   "execution_count": 98,
   "metadata": {},
   "outputs": [
    {
     "ename": "ValueError",
     "evalue": "Length of values does not match length of index",
     "output_type": "error",
     "traceback": [
      "\u001b[0;31m---------------------------------------------------------------------------\u001b[0m",
      "\u001b[0;31mValueError\u001b[0m                                Traceback (most recent call last)",
      "\u001b[0;32m<ipython-input-98-5dd8f52b1068>\u001b[0m in \u001b[0;36m<module>\u001b[0;34m()\u001b[0m\n\u001b[1;32m      9\u001b[0m \u001b[0mrsi\u001b[0m \u001b[0;34m=\u001b[0m \u001b[0mtalib\u001b[0m\u001b[0;34m.\u001b[0m\u001b[0mRSI\u001b[0m\u001b[0;34m(\u001b[0m\u001b[0mprice\u001b[0m\u001b[0;34m)\u001b[0m\u001b[0;34m\u001b[0m\u001b[0m\n\u001b[1;32m     10\u001b[0m \u001b[0msrsi\u001b[0m \u001b[0;34m=\u001b[0m \u001b[0mtalib\u001b[0m\u001b[0;34m.\u001b[0m\u001b[0mSTOCHRSI\u001b[0m\u001b[0;34m(\u001b[0m\u001b[0mprice\u001b[0m\u001b[0;34m)\u001b[0m\u001b[0;34m\u001b[0m\u001b[0m\n\u001b[0;32m---> 11\u001b[0;31m \u001b[0mnewdf\u001b[0m\u001b[0;34m[\u001b[0m\u001b[0;34m'srsi'\u001b[0m\u001b[0;34m]\u001b[0m \u001b[0;34m=\u001b[0m \u001b[0msrsi\u001b[0m\u001b[0;34m\u001b[0m\u001b[0m\n\u001b[0m\u001b[1;32m     12\u001b[0m \u001b[0;31m#m[1][40:60]\u001b[0m\u001b[0;34m\u001b[0m\u001b[0;34m\u001b[0m\u001b[0m\n\u001b[1;32m     13\u001b[0m \u001b[0;31m# newdf['msig'] = np.where((m[1]>m[2]),1,0)\u001b[0m\u001b[0;34m\u001b[0m\u001b[0;34m\u001b[0m\u001b[0m\n",
      "\u001b[0;32m/anaconda2/lib/python2.7/site-packages/pandas/core/frame.pyc\u001b[0m in \u001b[0;36m__setitem__\u001b[0;34m(self, key, value)\u001b[0m\n\u001b[1;32m   2329\u001b[0m         \u001b[0;32melse\u001b[0m\u001b[0;34m:\u001b[0m\u001b[0;34m\u001b[0m\u001b[0m\n\u001b[1;32m   2330\u001b[0m             \u001b[0;31m# set column\u001b[0m\u001b[0;34m\u001b[0m\u001b[0;34m\u001b[0m\u001b[0m\n\u001b[0;32m-> 2331\u001b[0;31m             \u001b[0mself\u001b[0m\u001b[0;34m.\u001b[0m\u001b[0m_set_item\u001b[0m\u001b[0;34m(\u001b[0m\u001b[0mkey\u001b[0m\u001b[0;34m,\u001b[0m \u001b[0mvalue\u001b[0m\u001b[0;34m)\u001b[0m\u001b[0;34m\u001b[0m\u001b[0m\n\u001b[0m\u001b[1;32m   2332\u001b[0m \u001b[0;34m\u001b[0m\u001b[0m\n\u001b[1;32m   2333\u001b[0m     \u001b[0;32mdef\u001b[0m \u001b[0m_setitem_slice\u001b[0m\u001b[0;34m(\u001b[0m\u001b[0mself\u001b[0m\u001b[0;34m,\u001b[0m \u001b[0mkey\u001b[0m\u001b[0;34m,\u001b[0m \u001b[0mvalue\u001b[0m\u001b[0;34m)\u001b[0m\u001b[0;34m:\u001b[0m\u001b[0;34m\u001b[0m\u001b[0m\n",
      "\u001b[0;32m/anaconda2/lib/python2.7/site-packages/pandas/core/frame.pyc\u001b[0m in \u001b[0;36m_set_item\u001b[0;34m(self, key, value)\u001b[0m\n\u001b[1;32m   2395\u001b[0m \u001b[0;34m\u001b[0m\u001b[0m\n\u001b[1;32m   2396\u001b[0m         \u001b[0mself\u001b[0m\u001b[0;34m.\u001b[0m\u001b[0m_ensure_valid_index\u001b[0m\u001b[0;34m(\u001b[0m\u001b[0mvalue\u001b[0m\u001b[0;34m)\u001b[0m\u001b[0;34m\u001b[0m\u001b[0m\n\u001b[0;32m-> 2397\u001b[0;31m         \u001b[0mvalue\u001b[0m \u001b[0;34m=\u001b[0m \u001b[0mself\u001b[0m\u001b[0;34m.\u001b[0m\u001b[0m_sanitize_column\u001b[0m\u001b[0;34m(\u001b[0m\u001b[0mkey\u001b[0m\u001b[0;34m,\u001b[0m \u001b[0mvalue\u001b[0m\u001b[0;34m)\u001b[0m\u001b[0;34m\u001b[0m\u001b[0m\n\u001b[0m\u001b[1;32m   2398\u001b[0m         \u001b[0mNDFrame\u001b[0m\u001b[0;34m.\u001b[0m\u001b[0m_set_item\u001b[0m\u001b[0;34m(\u001b[0m\u001b[0mself\u001b[0m\u001b[0;34m,\u001b[0m \u001b[0mkey\u001b[0m\u001b[0;34m,\u001b[0m \u001b[0mvalue\u001b[0m\u001b[0;34m)\u001b[0m\u001b[0;34m\u001b[0m\u001b[0m\n\u001b[1;32m   2399\u001b[0m \u001b[0;34m\u001b[0m\u001b[0m\n",
      "\u001b[0;32m/anaconda2/lib/python2.7/site-packages/pandas/core/frame.pyc\u001b[0m in \u001b[0;36m_sanitize_column\u001b[0;34m(self, key, value, broadcast)\u001b[0m\n\u001b[1;32m   2566\u001b[0m \u001b[0;34m\u001b[0m\u001b[0m\n\u001b[1;32m   2567\u001b[0m             \u001b[0;31m# turn me into an ndarray\u001b[0m\u001b[0;34m\u001b[0m\u001b[0;34m\u001b[0m\u001b[0m\n\u001b[0;32m-> 2568\u001b[0;31m             \u001b[0mvalue\u001b[0m \u001b[0;34m=\u001b[0m \u001b[0m_sanitize_index\u001b[0m\u001b[0;34m(\u001b[0m\u001b[0mvalue\u001b[0m\u001b[0;34m,\u001b[0m \u001b[0mself\u001b[0m\u001b[0;34m.\u001b[0m\u001b[0mindex\u001b[0m\u001b[0;34m,\u001b[0m \u001b[0mcopy\u001b[0m\u001b[0;34m=\u001b[0m\u001b[0mFalse\u001b[0m\u001b[0;34m)\u001b[0m\u001b[0;34m\u001b[0m\u001b[0m\n\u001b[0m\u001b[1;32m   2569\u001b[0m             \u001b[0;32mif\u001b[0m \u001b[0;32mnot\u001b[0m \u001b[0misinstance\u001b[0m\u001b[0;34m(\u001b[0m\u001b[0mvalue\u001b[0m\u001b[0;34m,\u001b[0m \u001b[0;34m(\u001b[0m\u001b[0mnp\u001b[0m\u001b[0;34m.\u001b[0m\u001b[0mndarray\u001b[0m\u001b[0;34m,\u001b[0m \u001b[0mIndex\u001b[0m\u001b[0;34m)\u001b[0m\u001b[0;34m)\u001b[0m\u001b[0;34m:\u001b[0m\u001b[0;34m\u001b[0m\u001b[0m\n\u001b[1;32m   2570\u001b[0m                 \u001b[0;32mif\u001b[0m \u001b[0misinstance\u001b[0m\u001b[0;34m(\u001b[0m\u001b[0mvalue\u001b[0m\u001b[0;34m,\u001b[0m \u001b[0mlist\u001b[0m\u001b[0;34m)\u001b[0m \u001b[0;32mand\u001b[0m \u001b[0mlen\u001b[0m\u001b[0;34m(\u001b[0m\u001b[0mvalue\u001b[0m\u001b[0;34m)\u001b[0m \u001b[0;34m>\u001b[0m \u001b[0;36m0\u001b[0m\u001b[0;34m:\u001b[0m\u001b[0;34m\u001b[0m\u001b[0m\n",
      "\u001b[0;32m/anaconda2/lib/python2.7/site-packages/pandas/core/series.pyc\u001b[0m in \u001b[0;36m_sanitize_index\u001b[0;34m(data, index, copy)\u001b[0m\n\u001b[1;32m   2877\u001b[0m \u001b[0;34m\u001b[0m\u001b[0m\n\u001b[1;32m   2878\u001b[0m     \u001b[0;32mif\u001b[0m \u001b[0mlen\u001b[0m\u001b[0;34m(\u001b[0m\u001b[0mdata\u001b[0m\u001b[0;34m)\u001b[0m \u001b[0;34m!=\u001b[0m \u001b[0mlen\u001b[0m\u001b[0;34m(\u001b[0m\u001b[0mindex\u001b[0m\u001b[0;34m)\u001b[0m\u001b[0;34m:\u001b[0m\u001b[0;34m\u001b[0m\u001b[0m\n\u001b[0;32m-> 2879\u001b[0;31m         \u001b[0;32mraise\u001b[0m \u001b[0mValueError\u001b[0m\u001b[0;34m(\u001b[0m\u001b[0;34m'Length of values does not match length of '\u001b[0m \u001b[0;34m'index'\u001b[0m\u001b[0;34m)\u001b[0m\u001b[0;34m\u001b[0m\u001b[0m\n\u001b[0m\u001b[1;32m   2880\u001b[0m \u001b[0;34m\u001b[0m\u001b[0m\n\u001b[1;32m   2881\u001b[0m     \u001b[0;32mif\u001b[0m \u001b[0misinstance\u001b[0m\u001b[0;34m(\u001b[0m\u001b[0mdata\u001b[0m\u001b[0;34m,\u001b[0m \u001b[0mPeriodIndex\u001b[0m\u001b[0;34m)\u001b[0m\u001b[0;34m:\u001b[0m\u001b[0;34m\u001b[0m\u001b[0m\n",
      "\u001b[0;31mValueError\u001b[0m: Length of values does not match length of index"
     ]
    }
   ],
   "source": [
    "newdf = convertcandles(df,15)\n",
    "\n",
    "#newdf = df\n",
    "price = np.array(newdf['vwp'])\n",
    "#sma  = talib.SMA(price,50)\n",
    "m = talib.MACD(price, 12,26,9)\n",
    "\n",
    "mom = talib.MOM(price,12 )\n",
    "rsi = talib.RSI(price)\n",
    "srsi = talib.STOCHRSI(price)\n",
    "newdf['srsi'] = srsi\n",
    "#m[1][40:60]\n",
    "# newdf['msig'] = np.where((m[1]>m[2]),1,0)\n",
    "newdf['msig'] = m[1]-m[2]\n",
    "#newdf['mom'] = np.where(mom>0,1,0)\n",
    "# newdf['rsi'] = np.where((rsi>50)& (rsi> np.roll(rsi,1)),1,0)\n",
    "newdf['rsi'] = rsi\n",
    "# newdf['sma'] = np.where((pd.rolling_mean(newdf['vwp'],9)- pd.rolling_mean(newdf['vwp'],26))>0,1,0)\n",
    "newdf['target'] = np.where((newdf['close'].shift(1)- newdf['close'])>0,1,0)\n",
    "newdf.dropna(axis = 0, how = 'any', inplace = True)\n",
    "newdf.drop(newdf.index[0], inplace = True)\n",
    "newdf.head(30)\n"
   ]
  },
  {
   "cell_type": "code",
   "execution_count": 88,
   "metadata": {
    "collapsed": true
   },
   "outputs": [],
   "source": [
    "factors = ['volume','msig','rsi']\n",
    "X = newdf[factors]\n",
    "Y = newdf['target']"
   ]
  },
  {
   "cell_type": "code",
   "execution_count": 96,
   "metadata": {},
   "outputs": [
    {
     "name": "stdout",
     "output_type": "stream",
     "text": [
      "LogisticRegression score: 0.506522\n"
     ]
    }
   ],
   "source": [
    "Xtrain,  Xtest, Ytrain, Ytest = model_selection.train_test_split(X,Y)\n",
    "#Xtrain.head()\n",
    "scaler = preprocessing.MinMaxScaler(copy = False)\n",
    "#Xtrain[['volume','rsi']]=scaler.fit_transform(Xtrain[['volume','rsi']])\n",
    "mod = linear_model.LogisticRegression(solver = \"saga\")\n",
    "mod.fit(Xtrain, Ytrain)\n",
    "#Xtest[['volume','rsi']]=scaler.fit_transform(Xtest[['volume','rsi']])\n",
    "print('LogisticRegression score: %f'\n",
    "      % mod.score(Xtest, Ytest))"
   ]
  },
  {
   "cell_type": "code",
   "execution_count": 97,
   "metadata": {},
   "outputs": [
    {
     "name": "stdout",
     "output_type": "stream",
     "text": [
      "('Linear SVM', 0.52826086956521734)\n",
      "('RBF SVM', 0.50869565217391299)\n",
      "('Decision Tree', 0.53913043478260869)\n",
      "('Random Forest', 0.52391304347826084)\n",
      "('Neural Net', 0.50652173913043474)\n",
      "('AdaBoost', 0.56086956521739129)\n"
     ]
    }
   ],
   "source": [
    "# names = [ \"Linear SVM\", \"RBF SVM\", \"Gaussian Process\",\n",
    "#          \"Decision Tree\", \"Random Forest\", \"Neural Net\", \"AdaBoost\",\n",
    "#          \"Naive Bayes\"]\n",
    "names = [ \"Linear SVM\", \"RBF SVM\", \n",
    "         \"Decision Tree\", \"Random Forest\", \"Neural Net\", \"AdaBoost\"\n",
    "         ]\n",
    "# classifiers = [SVC(kernel=\"linear\", C=0.025),\n",
    "#     SVC(gamma=2, C=1),\n",
    "#     GaussianProcessClassifier(1.0 * RBF(1.0), warm_start=True),\n",
    "#     DecisionTreeClassifier(max_depth=5),\n",
    "#     RandomForestClassifier(max_depth=5, n_estimators=10, max_features=1),\n",
    "#     MLPClassifier(alpha=1),\n",
    "#     AdaBoostClassifier(),\n",
    "#     GaussianNB()]\n",
    "classifiers = [SVC(kernel=\"linear\", C=0.025),\n",
    "    SVC(gamma=2, C=1),\n",
    "    DecisionTreeClassifier(max_depth=5),\n",
    "    RandomForestClassifier(max_depth=5, n_estimators=10, max_features=1),\n",
    "    MLPClassifier(alpha=1),\n",
    "    AdaBoostClassifier()]\n",
    "for name, clf in zip(names, classifiers):\n",
    "    clf.fit(Xtrain, Ytrain)\n",
    "    score = clf.score(Xtest, Ytest)\n",
    "    print(name, score)"
   ]
  },
  {
   "cell_type": "code",
   "execution_count": null,
   "metadata": {
    "collapsed": true
   },
   "outputs": [],
   "source": []
  }
 ],
 "metadata": {
  "kernelspec": {
   "display_name": "Python 2",
   "language": "python",
   "name": "python2"
  },
  "language_info": {
   "codemirror_mode": {
    "name": "ipython",
    "version": 2
   },
   "file_extension": ".py",
   "mimetype": "text/x-python",
   "name": "python",
   "nbconvert_exporter": "python",
   "pygments_lexer": "ipython2",
   "version": "2.7.13"
  }
 },
 "nbformat": 4,
 "nbformat_minor": 2
}
